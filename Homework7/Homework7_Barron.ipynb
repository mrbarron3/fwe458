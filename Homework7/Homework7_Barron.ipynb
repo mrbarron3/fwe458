{
  "nbformat": 4,
  "nbformat_minor": 0,
  "metadata": {
    "colab": {
      "provenance": [],
      "authorship_tag": "ABX9TyOUFNE3KawvhGoxvBoJc2tz",
      "include_colab_link": true
    },
    "kernelspec": {
      "name": "python3",
      "display_name": "Python 3"
    },
    "language_info": {
      "name": "python"
    }
  },
  "cells": [
    {
      "cell_type": "markdown",
      "metadata": {
        "id": "view-in-github",
        "colab_type": "text"
      },
      "source": [
        "<a href=\"https://colab.research.google.com/github/mrbarron3/fwe458/blob/main/Homework7/Homework7_Barron.ipynb\" target=\"_parent\"><img src=\"https://colab.research.google.com/assets/colab-badge.svg\" alt=\"Open In Colab\"/></a>"
      ]
    },
    {
      "cell_type": "code",
      "execution_count": 1,
      "metadata": {
        "id": "flwtguKsmiVG"
      },
      "outputs": [],
      "source": [
        "# imports\n",
        "from sklearn import datasets\n",
        "from sklearn.model_selection import train_test_split\n",
        "from sklearn.linear_model import LogisticRegression\n",
        "from sklearn import metrics\n",
        "from sklearn.metrics import roc_curve, roc_auc_score, accuracy_score, f1_score, precision_score, recall_score\n",
        "import matplotlib.pyplot as plt\n",
        "from sklearn.svm import SVC"
      ]
    },
    {
      "cell_type": "markdown",
      "source": [
        "## Question 1"
      ],
      "metadata": {
        "id": "Our_AfpBqM7l"
      }
    },
    {
      "cell_type": "code",
      "source": [
        "# load the iris dataset\n",
        "X, y = datasets.load_iris(return_X_y=True)\n",
        "print(len(y))\n",
        "\n",
        "# 0 == setosa, 1 == versicolor, 2 == viriginica\n",
        "# change the 1s to 2s, then 0s to 1s, then 2s to 0s, to make this into a binary class problem (1 == setosa, 0 != setosa)\n",
        "y[y == 1] = 2\n",
        "y[y == 0] = 1\n",
        "y[y == 2] = 0"
      ],
      "metadata": {
        "colab": {
          "base_uri": "https://localhost:8080/"
        },
        "id": "Xr7PHtJLmnzm",
        "outputId": "d81eda84-3c97-431d-b51a-83e0bcaa88bb"
      },
      "execution_count": 2,
      "outputs": [
        {
          "output_type": "stream",
          "name": "stdout",
          "text": [
            "150\n"
          ]
        }
      ]
    },
    {
      "cell_type": "code",
      "source": [
        "# split the data into training and testing\n",
        "X_train, X_test, y_train, y_test = train_test_split(X, y, test_size=0.3, random_state=0)\n",
        "\n",
        "# verify there is a mix of 0s and 1s in the testing data\n",
        "y_test"
      ],
      "metadata": {
        "colab": {
          "base_uri": "https://localhost:8080/"
        },
        "id": "Xq7Q6dNxnns0",
        "outputId": "79862d30-f37e-4039-c2c4-adda8162dc35"
      },
      "execution_count": 3,
      "outputs": [
        {
          "output_type": "execute_result",
          "data": {
            "text/plain": [
              "array([0, 0, 1, 0, 1, 0, 1, 0, 0, 0, 0, 0, 0, 0, 0, 1, 0, 0, 1, 1, 0, 0,\n",
              "       1, 1, 0, 1, 1, 0, 0, 1, 0, 0, 1, 0, 0, 0, 1, 0, 0, 0, 0, 1, 0, 1,\n",
              "       1])"
            ]
          },
          "metadata": {},
          "execution_count": 3
        }
      ]
    },
    {
      "cell_type": "code",
      "source": [
        "# initiate the logistic regression model\n",
        "logreg = LogisticRegression()\n",
        "\n",
        "# fit the model with training data\n",
        "logreg.fit(X_train, y_train)\n",
        "\n",
        "# predict values on the testing dataset\n",
        "y_pred = logreg.predict(X_test)"
      ],
      "metadata": {
        "id": "4TnAWFVKqRhb"
      },
      "execution_count": 4,
      "outputs": []
    },
    {
      "cell_type": "code",
      "source": [
        "# compare predicted values to actual values via the confusion matrix\n",
        "mtx = metrics.confusion_matrix(y_test, y_pred)\n",
        "\n",
        "# TP   |   FP\n",
        "# FN   |   TN\n",
        "mtx"
      ],
      "metadata": {
        "colab": {
          "base_uri": "https://localhost:8080/"
        },
        "id": "6xz0oxD9q8Wv",
        "outputId": "32d4baa1-c05e-4467-dff8-8775b97ae9ac"
      },
      "execution_count": 5,
      "outputs": [
        {
          "output_type": "execute_result",
          "data": {
            "text/plain": [
              "array([[29,  0],\n",
              "       [ 0, 16]])"
            ]
          },
          "metadata": {},
          "execution_count": 5
        }
      ]
    },
    {
      "cell_type": "code",
      "source": [
        "# calculate scores from the matrix\n",
        "accuracy = accuracy_score(y_test, y_pred)\n",
        "precision = precision_score(y_test, y_pred)\n",
        "recall = recall_score(y_test, y_pred)\n",
        "f1 = f1_score(y_test, y_pred)\n",
        "\n",
        "print(f\"The accuracy score is: {accuracy}\")\n",
        "print(f\"The precision score is: {precision}\")\n",
        "print(f\"The recall score is: {recall}\")\n",
        "print(f\"The f1 score is: {f1}\")"
      ],
      "metadata": {
        "colab": {
          "base_uri": "https://localhost:8080/"
        },
        "id": "y85RLLvMsBkM",
        "outputId": "3620855c-61d8-4d9a-bd81-b07fb967d1cd"
      },
      "execution_count": 6,
      "outputs": [
        {
          "output_type": "stream",
          "name": "stdout",
          "text": [
            "The accuracy score is: 1.0\n",
            "The precision score is: 1.0\n",
            "The recall score is: 1.0\n",
            "The f1 score is: 1.0\n"
          ]
        }
      ]
    },
    {
      "cell_type": "code",
      "source": [
        "# Compute ROC curve and AUC\n",
        "fpr, tpr, thresholds = roc_curve(y_test, y_pred)\n",
        "auc_score = roc_auc_score(y_test, y_pred)\n",
        "\n",
        "# plot the ROC curve and Area Under Curve\n",
        "fig, ax = plt.subplots()\n",
        "\n",
        "ax.plot(fpr, tpr, color='blue', label=f'ROC curve (AUC = {auc_score:.2f})')\n",
        "ax.plot([0, 1], [0, 1], linestyle='--', color='gray')\n",
        "ax.set_xlabel('False Positive Rate')\n",
        "ax.set_ylabel('True Positive Rate')\n",
        "ax.set_title('ROC Curve')\n",
        "ax.legend()\n",
        "\n",
        "plt.show()\n",
        "\n",
        "print(f\"The AUC is: {auc_score}\")"
      ],
      "metadata": {
        "colab": {
          "base_uri": "https://localhost:8080/",
          "height": 490
        },
        "id": "uyMd0DzUs_cW",
        "outputId": "83b7a74b-dd21-4f39-b242-437feab01488"
      },
      "execution_count": 7,
      "outputs": [
        {
          "output_type": "display_data",
          "data": {
            "text/plain": [
              "<Figure size 640x480 with 1 Axes>"
            ],
            "image/png": "[encoded data removed]"
          },
          "metadata": {}
        },
        {
          "output_type": "stream",
          "name": "stdout",
          "text": [
            "The AUC is: 1.0\n"
          ]
        }
      ]
    },
    {
      "cell_type": "markdown",
      "source": [
        "The ROC curve shows that the fpr is always 0 and the tpr is always 1. As such, the area under the curve is 1, which is as high this metric goes, and is known as \"perfect classification\". Our logistic regression model performed way better than just guessing, which would have resulted in an AUC value of 0.5."
      ],
      "metadata": {
        "id": "T3TIgq07wJoH"
      }
    },
    {
      "cell_type": "markdown",
      "source": [
        "## Question 2"
      ],
      "metadata": {
        "id": "hvaYDrWE-A_J"
      }
    },
    {
      "cell_type": "code",
      "source": [
        "# load the wine dataset\n",
        "wine_X, wine_y = datasets.load_wine(return_X_y=True)\n",
        "print(len(wine_y))\n",
        "\n",
        "wine_y"
      ],
      "metadata": {
        "colab": {
          "base_uri": "https://localhost:8080/"
        },
        "id": "1BhTnyfR9iR5",
        "outputId": "187a799a-59e7-4aca-fe48-54ace6a7ec4b"
      },
      "execution_count": 8,
      "outputs": [
        {
          "output_type": "stream",
          "name": "stdout",
          "text": [
            "178\n"
          ]
        },
        {
          "output_type": "execute_result",
          "data": {
            "text/plain": [
              "array([0, 0, 0, 0, 0, 0, 0, 0, 0, 0, 0, 0, 0, 0, 0, 0, 0, 0, 0, 0, 0, 0,\n",
              "       0, 0, 0, 0, 0, 0, 0, 0, 0, 0, 0, 0, 0, 0, 0, 0, 0, 0, 0, 0, 0, 0,\n",
              "       0, 0, 0, 0, 0, 0, 0, 0, 0, 0, 0, 0, 0, 0, 0, 1, 1, 1, 1, 1, 1, 1,\n",
              "       1, 1, 1, 1, 1, 1, 1, 1, 1, 1, 1, 1, 1, 1, 1, 1, 1, 1, 1, 1, 1, 1,\n",
              "       1, 1, 1, 1, 1, 1, 1, 1, 1, 1, 1, 1, 1, 1, 1, 1, 1, 1, 1, 1, 1, 1,\n",
              "       1, 1, 1, 1, 1, 1, 1, 1, 1, 1, 1, 1, 1, 1, 1, 1, 1, 1, 1, 1, 2, 2,\n",
              "       2, 2, 2, 2, 2, 2, 2, 2, 2, 2, 2, 2, 2, 2, 2, 2, 2, 2, 2, 2, 2, 2,\n",
              "       2, 2, 2, 2, 2, 2, 2, 2, 2, 2, 2, 2, 2, 2, 2, 2, 2, 2, 2, 2, 2, 2,\n",
              "       2, 2])"
            ]
          },
          "metadata": {},
          "execution_count": 8
        }
      ]
    },
    {
      "cell_type": "code",
      "source": [
        "# split the data into training and testing\n",
        "X_train, X_test, y_train, y_test = train_test_split(wine_X, wine_y, test_size=0.25, random_state=0)\n",
        "\n",
        "# verify there is a mix of 0s, 1s, and 2s in the testing data\n",
        "y_test"
      ],
      "metadata": {
        "colab": {
          "base_uri": "https://localhost:8080/"
        },
        "id": "sGVtfcCMeE-d",
        "outputId": "f8b0b6b3-33d4-4382-bb7f-48cbcf68387d"
      },
      "execution_count": 9,
      "outputs": [
        {
          "output_type": "execute_result",
          "data": {
            "text/plain": [
              "array([0, 2, 1, 0, 1, 1, 0, 2, 1, 1, 2, 2, 0, 1, 2, 1, 0, 0, 1, 0, 1, 0,\n",
              "       0, 1, 1, 1, 1, 1, 1, 2, 0, 0, 1, 0, 0, 0, 2, 1, 1, 2, 0, 0, 1, 1,\n",
              "       1])"
            ]
          },
          "metadata": {},
          "execution_count": 9
        }
      ]
    },
    {
      "cell_type": "code",
      "source": [
        "# train three SVM models, each using a different kernel (linear, RBF, and polynomial).\n",
        "model0 = SVC(kernel = 'linear').fit(wine_X, wine_y)\n",
        "pred0 = model0.predict(wine_X)\n",
        "\n",
        "model1 = SVC(kernel = 'rbf').fit(wine_X, wine_y)\n",
        "pred1 = model1.predict(wine_X)\n",
        "\n",
        "model2 = SVC(kernel = 'poly').fit(wine_X, wine_y)\n",
        "pred2 = model2.predict(wine_X)\n",
        "\n",
        "# add all predictions to a list for later use\n",
        "predictions = []\n",
        "predictions.append(pred0)\n",
        "predictions.append(pred1)\n",
        "predictions.append(pred2)\n",
        "model_types = ['linear', 'RBF', 'polynomial']"
      ],
      "metadata": {
        "id": "HEoUxUNue_Ii"
      },
      "execution_count": 10,
      "outputs": []
    },
    {
      "cell_type": "code",
      "source": [
        "def performance(y_test, y_pred):\n",
        "  accuracy = accuracy_score(y_test, y_pred)\n",
        "\n",
        "  # average = 'macro' argument calculates metrics for each label and finds their unweighted mean\n",
        "  precision = precision_score(y_test, y_pred, average = 'macro')\n",
        "  recall = recall_score(y_test, y_pred, average = 'macro')\n",
        "  f1 = f1_score(y_test, y_pred, average = 'macro')\n",
        "\n",
        "  print(f\"   The accuracy score is: {accuracy}\")\n",
        "  print(f\"   The precision score is: {precision}\")\n",
        "  print(f\"   The recall score is: {recall}\")\n",
        "  print(f\"   The f1 score is: {f1}\")"
      ],
      "metadata": {
        "id": "aUOlbwqUgCy7"
      },
      "execution_count": 11,
      "outputs": []
    },
    {
      "cell_type": "code",
      "source": [
        "# display the performance of each model\n",
        "for i, pred in enumerate(predictions):\n",
        "  print(f\"The performance of model{i} ({model_types[i]}) is:\")\n",
        "  performance(wine_y, pred)"
      ],
      "metadata": {
        "colab": {
          "base_uri": "https://localhost:8080/"
        },
        "id": "X4a_iwdtgZ2x",
        "outputId": "6962092d-4b22-4b98-b98c-f33946269983"
      },
      "execution_count": 12,
      "outputs": [
        {
          "output_type": "stream",
          "name": "stdout",
          "text": [
            "The performance of model0 (linear) is:\n",
            "   The accuracy score is: 0.9943820224719101\n",
            "   The precision score is: 0.9931972789115647\n",
            "   The recall score is: 0.9953051643192489\n",
            "   The f1 score is: 0.9941995076893081\n",
            "The performance of model1 (RBF) is:\n",
            "   The accuracy score is: 0.7078651685393258\n",
            "   The precision score is: 0.691563088512241\n",
            "   The recall score is: 0.690694543911302\n",
            "   The f1 score is: 0.690648522963965\n",
            "The performance of model2 (polynomial) is:\n",
            "   The accuracy score is: 0.6797752808988764\n",
            "   The precision score is: 0.6166129032258064\n",
            "   The recall score is: 0.632181507121827\n",
            "   The f1 score is: 0.596226418893883\n"
          ]
        }
      ]
    },
    {
      "cell_type": "markdown",
      "source": [
        "Based on these performance metrics using macro average for precision, recall, and f1, the linear SVM model is the best choice for us to use to predict a wine's class. All performance metrics given above for the linear model are greater than their rbf and polynomial counterparts. Based on these values, the wine data must be mostly linearly separable before it goes into the model for these performance metrics to come out as such. The rbf and polynomial kernal would have performed better than the linear kernel if the data was not already linearly separable. Using either of these as the \"kernal trick\" maps the data into a higher dimensional space where a linear decision boundary can be created."
      ],
      "metadata": {
        "id": "sv9ES12OwG58"
      }
    },
    {
      "cell_type": "code",
      "source": [],
      "metadata": {
        "id": "IVtkRM56xzJ9"
      },
      "execution_count": 12,
      "outputs": []
    }
  ]
}