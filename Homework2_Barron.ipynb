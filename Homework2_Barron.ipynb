{
  "nbformat": 4,
  "nbformat_minor": 0,
  "metadata": {
    "colab": {
      "provenance": [],
      "authorship_tag": "ABX9TyNzzcqN26THu2Exkxv/vlWr",
      "include_colab_link": true
    },
    "kernelspec": {
      "name": "python3",
      "display_name": "Python 3"
    },
    "language_info": {
      "name": "python"
    }
  },
  "cells": [
    {
      "cell_type": "markdown",
      "metadata": {
        "id": "view-in-github",
        "colab_type": "text"
      },
      "source": [
        "<a href=\"https://colab.research.google.com/github/mrbarron3/fwe458/blob/main/Homework2_Barron.ipynb\" target=\"_parent\"><img src=\"https://colab.research.google.com/assets/colab-badge.svg\" alt=\"Open In Colab\"/></a>"
      ]
    },
    {
      "cell_type": "code",
      "execution_count": 70,
      "metadata": {
        "id": "dmmGWK0QqE7d"
      },
      "outputs": [],
      "source": [
        "import random\n",
        "random.seed()"
      ]
    },
    {
      "cell_type": "code",
      "source": [
        "# generate 50 random numbers between 1 and 100 (I am using 1-100 inclusive)\n",
        "# I am allowing numbers to be repeated in the list\n",
        "numbers = [random.randint(1, 100) for i in range(50)]\n",
        "\n",
        "# verify that there are 50 numbers\n",
        "print(len(numbers))\n",
        "\n",
        "# print the first 5 numbers to check that they aren't sorted yet\n",
        "numbers[:5]"
      ],
      "metadata": {
        "colab": {
          "base_uri": "https://localhost:8080/"
        },
        "id": "CfJMCXiRqYG8",
        "outputId": "b25dcdf3-aac6-4dc9-e169-afb93cf5860f"
      },
      "execution_count": 71,
      "outputs": [
        {
          "output_type": "stream",
          "name": "stdout",
          "text": [
            "50\n"
          ]
        },
        {
          "output_type": "execute_result",
          "data": {
            "text/plain": [
              "[43, 94, 73, 60, 98]"
            ]
          },
          "metadata": {},
          "execution_count": 71
        }
      ]
    },
    {
      "cell_type": "code",
      "source": [
        "# define the function\n",
        "def bubble_sort(nums):\n",
        "\n",
        "  # loop through the length of the list\n",
        "  for i in range(len(nums)):\n",
        "\n",
        "    # loop through the length of the list -1 (every time we loop through one element, we loop through the whole list)\n",
        "    for j in range(len(nums)-1):\n",
        "\n",
        "      # if the current number is greater than the next number, swap them (moves the biggest number to the end)\n",
        "      current = nums[j]\n",
        "      next = nums[j+1]\n",
        "      if current > next:\n",
        "        nums[j] = next\n",
        "        nums[j + 1] = current\n",
        "\n",
        "  # output the original list, but sorted\n",
        "  return nums"
      ],
      "metadata": {
        "id": "IMYKG0Ayqy9t"
      },
      "execution_count": 72,
      "outputs": []
    },
    {
      "cell_type": "code",
      "source": [
        "# print the list before sorting\n",
        "print(f\"before: {numbers}\")\n",
        "\n",
        "# show the output from insertion sort\n",
        "print(f\"after: {insertion_sort(numbers)}\")"
      ],
      "metadata": {
        "colab": {
          "base_uri": "https://localhost:8080/"
        },
        "id": "JfUu6Dorq2Zd",
        "outputId": "899a8c7b-0f19-4342-dcf1-a481b0e89da3"
      },
      "execution_count": 73,
      "outputs": [
        {
          "output_type": "stream",
          "name": "stdout",
          "text": [
            "before: [43, 94, 73, 60, 98, 54, 89, 33, 88, 72, 4, 26, 5, 19, 67, 10, 79, 20, 31, 32, 91, 70, 37, 81, 30, 39, 99, 84, 72, 41, 19, 46, 57, 35, 1, 10, 65, 14, 53, 4, 94, 91, 69, 91, 22, 42, 50, 6, 62, 68]\n",
            "after: [1, 4, 4, 5, 6, 10, 10, 14, 19, 19, 20, 22, 26, 30, 31, 32, 33, 35, 37, 39, 41, 42, 43, 46, 50, 53, 54, 57, 60, 62, 65, 67, 68, 69, 70, 72, 72, 73, 79, 81, 84, 88, 89, 91, 91, 91, 94, 94, 98, 99]\n"
          ]
        }
      ]
    },
    {
      "cell_type": "code",
      "source": [
        "random.seed()\n",
        "\n",
        "# generate 50 new random numbers between 1 and 100 (I am using 1-100 inclusive)\n",
        "# I am allowing numbers to be repeated in the list\n",
        "numbers2 = [random.randint(1, 100) for i in range(50)]\n",
        "\n",
        "# verify that there are 50 numbers\n",
        "print(len(numbers2))\n",
        "\n",
        "# print the first 5 numbers to check that they aren't sorted yet\n",
        "numbers2[:5]"
      ],
      "metadata": {
        "colab": {
          "base_uri": "https://localhost:8080/"
        },
        "id": "N4pzI1MsMtuA",
        "outputId": "7000f83c-cc35-49d9-9b17-ca5e7fddecba"
      },
      "execution_count": 74,
      "outputs": [
        {
          "output_type": "stream",
          "name": "stdout",
          "text": [
            "50\n"
          ]
        },
        {
          "output_type": "execute_result",
          "data": {
            "text/plain": [
              "[7, 11, 58, 34, 27]"
            ]
          },
          "metadata": {},
          "execution_count": 74
        }
      ]
    },
    {
      "cell_type": "code",
      "source": [
        "# define the function\n",
        "def insertion_sort(nums):\n",
        "\n",
        "  # loop through the length of the list, starting at 1 (0th value is considered to be already sorted)\n",
        "  for i in range(1, len(nums)):\n",
        "\n",
        "    # find the value of the number you are currently sorting\n",
        "    key = nums[i]\n",
        "\n",
        "    # find the number right before the number you are trying to sort (this will update in the while loop)\n",
        "    j = i - 1\n",
        "\n",
        "    # loop through the numbers to the left of the key value until you find one that is less than the key value\n",
        "    while j >= 0 and key < nums[j]:\n",
        "\n",
        "      # move the compared value on spot to the right (possibly overwriting the key value in the list)\n",
        "      nums[j + 1] = nums[j]\n",
        "\n",
        "      # update j\n",
        "      j -= 1\n",
        "\n",
        "    # once you encounter a comparing value less than the key value, put the key value one spot to the right of it\n",
        "    nums[j + 1] = key\n",
        "\n",
        "  # output the original list, but sorted\n",
        "  return nums"
      ],
      "metadata": {
        "id": "IT6nPRASHtyO"
      },
      "execution_count": 75,
      "outputs": []
    },
    {
      "cell_type": "code",
      "source": [
        "# print the list before sorting\n",
        "print(f\"before: {numbers2}\")\n",
        "\n",
        "# show the output from insertion sort\n",
        "print(f\"after: {insertion_sort(numbers2)}\")"
      ],
      "metadata": {
        "colab": {
          "base_uri": "https://localhost:8080/"
        },
        "id": "jIRbEaNgKz1v",
        "outputId": "e6545a77-1d13-4604-b7b6-9a6dc8bd4341"
      },
      "execution_count": 76,
      "outputs": [
        {
          "output_type": "stream",
          "name": "stdout",
          "text": [
            "before: [7, 11, 58, 34, 27, 12, 98, 26, 47, 69, 80, 12, 58, 63, 23, 52, 8, 16, 69, 15, 85, 79, 19, 54, 77, 54, 15, 41, 74, 74, 17, 72, 79, 37, 13, 26, 76, 29, 73, 9, 13, 78, 49, 27, 51, 64, 55, 12, 43, 15]\n",
            "after: [7, 8, 9, 11, 12, 12, 12, 13, 13, 15, 15, 15, 16, 17, 19, 23, 26, 26, 27, 27, 29, 34, 37, 41, 43, 47, 49, 51, 52, 54, 54, 55, 58, 58, 63, 64, 69, 69, 72, 73, 74, 74, 76, 77, 78, 79, 79, 80, 85, 98]\n"
          ]
        }
      ]
    },
    {
      "cell_type": "code",
      "source": [],
      "metadata": {
        "id": "AyRnGmBQLnTt"
      },
      "execution_count": null,
      "outputs": []
    }
  ]
}